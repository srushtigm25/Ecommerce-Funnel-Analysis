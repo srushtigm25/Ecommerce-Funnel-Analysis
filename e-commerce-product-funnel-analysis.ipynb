{
 "cells": [
  {
   "cell_type": "markdown",
   "id": "07caae18",
   "metadata": {
    "papermill": {
     "duration": 0.0037,
     "end_time": "2025-06-02T18:03:41.111615",
     "exception": false,
     "start_time": "2025-06-02T18:03:41.107915",
     "status": "completed"
    },
    "tags": []
   },
   "source": [
    "# E-Commerce Funnel Analysis 📊\n",
    "\n",
    "**Objective**: Analyze user behavior in a multi-category e-commerce store to uncover friction points, product opportunities, and potential optimizations in the user funnel.\n",
    "\n",
    "**Dataset**: [E-Commerce Behavior Data (Kaggle)](https://www.kaggle.com/datasets/mkechinov/ecommerce-behavior-data-from-multi-category-store)\n",
    "\n",
    "---\n",
    "\n",
    "## Key Questions:\n",
    "1. Where are users dropping off in the funnel?\n",
    "2. Are there peak hours where users are more likely to purchase?\n",
    "3. Which product categories have higher conversion rates?\n",
    "4. What patterns exist in multi-session or repeat behavior?\n",
    "5. How can this data inform UX, promotions, or product strategy?\n"
   ]
  },
  {
   "cell_type": "markdown",
   "id": "2af35036",
   "metadata": {
    "papermill": {
     "duration": 0.002742,
     "end_time": "2025-06-02T18:03:41.117802",
     "exception": false,
     "start_time": "2025-06-02T18:03:41.115060",
     "status": "completed"
    },
    "tags": []
   },
   "source": [
    "# Step 1: Load and Inspect the Data\n",
    "\n",
    "We'll start by loading the dataset and performing basic inspection to understand its structure.\n"
   ]
  },
  {
   "cell_type": "code",
   "execution_count": 1,
   "id": "1c450c90",
   "metadata": {
    "execution": {
     "iopub.execute_input": "2025-06-02T18:03:41.125048Z",
     "iopub.status.busy": "2025-06-02T18:03:41.124735Z",
     "iopub.status.idle": "2025-06-02T18:07:36.715839Z",
     "shell.execute_reply": "2025-06-02T18:07:36.714634Z"
    },
    "papermill": {
     "duration": 235.606459,
     "end_time": "2025-06-02T18:07:36.727222",
     "exception": false,
     "start_time": "2025-06-02T18:03:41.120763",
     "status": "completed"
    },
    "tags": []
   },
   "outputs": [
    {
     "name": "stdout",
     "output_type": "stream",
     "text": [
      "<class 'pandas.core.frame.DataFrame'>\n",
      "RangeIndex: 67501979 entries, 0 to 67501978\n",
      "Data columns (total 9 columns):\n",
      " #   Column         Dtype  \n",
      "---  ------         -----  \n",
      " 0   event_time     object \n",
      " 1   event_type     object \n",
      " 2   product_id     int64  \n",
      " 3   category_id    int64  \n",
      " 4   category_code  object \n",
      " 5   brand          object \n",
      " 6   price          float64\n",
      " 7   user_id        int64  \n",
      " 8   user_session   object \n",
      "dtypes: float64(1), int64(3), object(5)\n",
      "memory usage: 4.5+ GB\n"
     ]
    },
    {
     "data": {
      "text/html": [
       "<div>\n",
       "<style scoped>\n",
       "    .dataframe tbody tr th:only-of-type {\n",
       "        vertical-align: middle;\n",
       "    }\n",
       "\n",
       "    .dataframe tbody tr th {\n",
       "        vertical-align: top;\n",
       "    }\n",
       "\n",
       "    .dataframe thead th {\n",
       "        text-align: right;\n",
       "    }\n",
       "</style>\n",
       "<table border=\"1\" class=\"dataframe\">\n",
       "  <thead>\n",
       "    <tr style=\"text-align: right;\">\n",
       "      <th></th>\n",
       "      <th>event_time</th>\n",
       "      <th>event_type</th>\n",
       "      <th>product_id</th>\n",
       "      <th>category_id</th>\n",
       "      <th>category_code</th>\n",
       "      <th>brand</th>\n",
       "      <th>price</th>\n",
       "      <th>user_id</th>\n",
       "      <th>user_session</th>\n",
       "    </tr>\n",
       "  </thead>\n",
       "  <tbody>\n",
       "    <tr>\n",
       "      <th>0</th>\n",
       "      <td>2019-11-01 00:00:00 UTC</td>\n",
       "      <td>view</td>\n",
       "      <td>1003461</td>\n",
       "      <td>2053013555631882655</td>\n",
       "      <td>electronics.smartphone</td>\n",
       "      <td>xiaomi</td>\n",
       "      <td>489.07</td>\n",
       "      <td>520088904</td>\n",
       "      <td>4d3b30da-a5e4-49df-b1a8-ba5943f1dd33</td>\n",
       "    </tr>\n",
       "    <tr>\n",
       "      <th>1</th>\n",
       "      <td>2019-11-01 00:00:00 UTC</td>\n",
       "      <td>view</td>\n",
       "      <td>5000088</td>\n",
       "      <td>2053013566100866035</td>\n",
       "      <td>appliances.sewing_machine</td>\n",
       "      <td>janome</td>\n",
       "      <td>293.65</td>\n",
       "      <td>530496790</td>\n",
       "      <td>8e5f4f83-366c-4f70-860e-ca7417414283</td>\n",
       "    </tr>\n",
       "    <tr>\n",
       "      <th>2</th>\n",
       "      <td>2019-11-01 00:00:01 UTC</td>\n",
       "      <td>view</td>\n",
       "      <td>17302664</td>\n",
       "      <td>2053013553853497655</td>\n",
       "      <td>NaN</td>\n",
       "      <td>creed</td>\n",
       "      <td>28.31</td>\n",
       "      <td>561587266</td>\n",
       "      <td>755422e7-9040-477b-9bd2-6a6e8fd97387</td>\n",
       "    </tr>\n",
       "    <tr>\n",
       "      <th>3</th>\n",
       "      <td>2019-11-01 00:00:01 UTC</td>\n",
       "      <td>view</td>\n",
       "      <td>3601530</td>\n",
       "      <td>2053013563810775923</td>\n",
       "      <td>appliances.kitchen.washer</td>\n",
       "      <td>lg</td>\n",
       "      <td>712.87</td>\n",
       "      <td>518085591</td>\n",
       "      <td>3bfb58cd-7892-48cc-8020-2f17e6de6e7f</td>\n",
       "    </tr>\n",
       "    <tr>\n",
       "      <th>4</th>\n",
       "      <td>2019-11-01 00:00:01 UTC</td>\n",
       "      <td>view</td>\n",
       "      <td>1004775</td>\n",
       "      <td>2053013555631882655</td>\n",
       "      <td>electronics.smartphone</td>\n",
       "      <td>xiaomi</td>\n",
       "      <td>183.27</td>\n",
       "      <td>558856683</td>\n",
       "      <td>313628f1-68b8-460d-84f6-cec7a8796ef2</td>\n",
       "    </tr>\n",
       "  </tbody>\n",
       "</table>\n",
       "</div>"
      ],
      "text/plain": [
       "                event_time event_type  product_id          category_id  \\\n",
       "0  2019-11-01 00:00:00 UTC       view     1003461  2053013555631882655   \n",
       "1  2019-11-01 00:00:00 UTC       view     5000088  2053013566100866035   \n",
       "2  2019-11-01 00:00:01 UTC       view    17302664  2053013553853497655   \n",
       "3  2019-11-01 00:00:01 UTC       view     3601530  2053013563810775923   \n",
       "4  2019-11-01 00:00:01 UTC       view     1004775  2053013555631882655   \n",
       "\n",
       "               category_code   brand   price    user_id  \\\n",
       "0     electronics.smartphone  xiaomi  489.07  520088904   \n",
       "1  appliances.sewing_machine  janome  293.65  530496790   \n",
       "2                        NaN   creed   28.31  561587266   \n",
       "3  appliances.kitchen.washer      lg  712.87  518085591   \n",
       "4     electronics.smartphone  xiaomi  183.27  558856683   \n",
       "\n",
       "                           user_session  \n",
       "0  4d3b30da-a5e4-49df-b1a8-ba5943f1dd33  \n",
       "1  8e5f4f83-366c-4f70-860e-ca7417414283  \n",
       "2  755422e7-9040-477b-9bd2-6a6e8fd97387  \n",
       "3  3bfb58cd-7892-48cc-8020-2f17e6de6e7f  \n",
       "4  313628f1-68b8-460d-84f6-cec7a8796ef2  "
      ]
     },
     "execution_count": 1,
     "metadata": {},
     "output_type": "execute_result"
    }
   ],
   "source": [
    "import pandas as pd\n",
    "\n",
    "# Load dataset (adjust path if needed)\n",
    "df = pd.read_csv('/kaggle/input/ecommerce-behavior-data-from-multi-category-store/2019-Nov.csv')\n",
    "\n",
    "# Inspect structure\n",
    "df.info()\n",
    "df.head()\n"
   ]
  },
  {
   "cell_type": "markdown",
   "id": "0dc0aa1a",
   "metadata": {
    "papermill": {
     "duration": 0.003458,
     "end_time": "2025-06-02T18:07:36.734708",
     "exception": false,
     "start_time": "2025-06-02T18:07:36.731250",
     "status": "completed"
    },
    "tags": []
   },
   "source": [
    "# Step 2: Clean and Preprocess\n",
    "\n",
    "We’ll convert timestamps, sort the data chronologically, and extract useful features like hour and weekday.\n"
   ]
  },
  {
   "cell_type": "code",
   "execution_count": 2,
   "id": "da481909",
   "metadata": {
    "execution": {
     "iopub.execute_input": "2025-06-02T18:07:36.743812Z",
     "iopub.status.busy": "2025-06-02T18:07:36.743411Z",
     "iopub.status.idle": "2025-06-02T18:08:51.475239Z",
     "shell.execute_reply": "2025-06-02T18:08:51.474182Z"
    },
    "papermill": {
     "duration": 74.742129,
     "end_time": "2025-06-02T18:08:51.480233",
     "exception": false,
     "start_time": "2025-06-02T18:07:36.738104",
     "status": "completed"
    },
    "tags": []
   },
   "outputs": [
    {
     "data": {
      "text/html": [
       "<div>\n",
       "<style scoped>\n",
       "    .dataframe tbody tr th:only-of-type {\n",
       "        vertical-align: middle;\n",
       "    }\n",
       "\n",
       "    .dataframe tbody tr th {\n",
       "        vertical-align: top;\n",
       "    }\n",
       "\n",
       "    .dataframe thead th {\n",
       "        text-align: right;\n",
       "    }\n",
       "</style>\n",
       "<table border=\"1\" class=\"dataframe\">\n",
       "  <thead>\n",
       "    <tr style=\"text-align: right;\">\n",
       "      <th></th>\n",
       "      <th>event_time</th>\n",
       "      <th>hour</th>\n",
       "      <th>weekday</th>\n",
       "    </tr>\n",
       "  </thead>\n",
       "  <tbody>\n",
       "    <tr>\n",
       "      <th>0</th>\n",
       "      <td>2019-11-01 00:00:00+00:00</td>\n",
       "      <td>0</td>\n",
       "      <td>Friday</td>\n",
       "    </tr>\n",
       "    <tr>\n",
       "      <th>1</th>\n",
       "      <td>2019-11-01 00:00:00+00:00</td>\n",
       "      <td>0</td>\n",
       "      <td>Friday</td>\n",
       "    </tr>\n",
       "    <tr>\n",
       "      <th>2</th>\n",
       "      <td>2019-11-01 00:00:01+00:00</td>\n",
       "      <td>0</td>\n",
       "      <td>Friday</td>\n",
       "    </tr>\n",
       "    <tr>\n",
       "      <th>3</th>\n",
       "      <td>2019-11-01 00:00:01+00:00</td>\n",
       "      <td>0</td>\n",
       "      <td>Friday</td>\n",
       "    </tr>\n",
       "    <tr>\n",
       "      <th>4</th>\n",
       "      <td>2019-11-01 00:00:01+00:00</td>\n",
       "      <td>0</td>\n",
       "      <td>Friday</td>\n",
       "    </tr>\n",
       "  </tbody>\n",
       "</table>\n",
       "</div>"
      ],
      "text/plain": [
       "                 event_time  hour weekday\n",
       "0 2019-11-01 00:00:00+00:00     0  Friday\n",
       "1 2019-11-01 00:00:00+00:00     0  Friday\n",
       "2 2019-11-01 00:00:01+00:00     0  Friday\n",
       "3 2019-11-01 00:00:01+00:00     0  Friday\n",
       "4 2019-11-01 00:00:01+00:00     0  Friday"
      ]
     },
     "execution_count": 2,
     "metadata": {},
     "output_type": "execute_result"
    }
   ],
   "source": [
    "# Convert time column\n",
    "df['event_time'] = pd.to_datetime(df['event_time'])\n",
    "\n",
    "# Sort chronologically\n",
    "df = df.sort_values(by='event_time')\n",
    "\n",
    "# Extract additional features\n",
    "df['hour'] = df['event_time'].dt.hour\n",
    "df['weekday'] = df['event_time'].dt.day_name()\n",
    "\n",
    "# Preview result\n",
    "df[['event_time', 'hour', 'weekday']].head()\n"
   ]
  },
  {
   "cell_type": "markdown",
   "id": "6d3d0cc0",
   "metadata": {
    "papermill": {
     "duration": 0.003169,
     "end_time": "2025-06-02T18:08:51.486995",
     "exception": false,
     "start_time": "2025-06-02T18:08:51.483826",
     "status": "completed"
    },
    "tags": []
   },
   "source": [
    "# Step 3: Funnel Conversion Rates\n",
    "\n",
    "We’ll calculate how many users perform each type of event and analyze overall conversion from view → cart → purchase.\n"
   ]
  },
  {
   "cell_type": "code",
   "execution_count": 3,
   "id": "21a8c615",
   "metadata": {
    "execution": {
     "iopub.execute_input": "2025-06-02T18:08:51.495825Z",
     "iopub.status.busy": "2025-06-02T18:08:51.494911Z",
     "iopub.status.idle": "2025-06-02T18:09:05.879076Z",
     "shell.execute_reply": "2025-06-02T18:09:05.877999Z"
    },
    "papermill": {
     "duration": 14.390473,
     "end_time": "2025-06-02T18:09:05.880922",
     "exception": false,
     "start_time": "2025-06-02T18:08:51.490449",
     "status": "completed"
    },
    "tags": []
   },
   "outputs": [
    {
     "name": "stdout",
     "output_type": "stream",
     "text": [
      "View → Cart: 22.36 %\n",
      "View → Purchase: 11.95 %\n",
      "Cart → Purchase: 53.45 %\n"
     ]
    }
   ],
   "source": [
    "# Unique users per event type\n",
    "funnel_counts = df.groupby('event_type')['user_id'].nunique()\n",
    "funnel_counts = funnel_counts[['view', 'cart', 'purchase']]  # enforce order\n",
    "\n",
    "# Conversion rates\n",
    "view_to_cart = funnel_counts['cart'] / funnel_counts['view']\n",
    "view_to_purchase = funnel_counts['purchase'] / funnel_counts['view']\n",
    "cart_to_purchase = funnel_counts['purchase'] / funnel_counts['cart']\n",
    "\n",
    "print(\"View → Cart:\", round(view_to_cart * 100, 2), \"%\")\n",
    "print(\"View → Purchase:\", round(view_to_purchase * 100, 2), \"%\")\n",
    "print(\"Cart → Purchase:\", round(cart_to_purchase * 100, 2), \"%\")\n"
   ]
  },
  {
   "cell_type": "markdown",
   "id": "d755f1ef",
   "metadata": {
    "papermill": {
     "duration": 0.003566,
     "end_time": "2025-06-02T18:09:05.888484",
     "exception": false,
     "start_time": "2025-06-02T18:09:05.884918",
     "status": "completed"
    },
    "tags": []
   },
   "source": [
    "# Step 4: Event Distribution Over Time\n",
    "\n",
    "Let’s look at how events are distributed across hours of the day.\n"
   ]
  },
  {
   "cell_type": "code",
   "execution_count": 4,
   "id": "a7bf0da5",
   "metadata": {
    "execution": {
     "iopub.execute_input": "2025-06-02T18:09:05.897791Z",
     "iopub.status.busy": "2025-06-02T18:09:05.897437Z",
     "iopub.status.idle": "2025-06-02T18:09:45.392351Z",
     "shell.execute_reply": "2025-06-02T18:09:45.391059Z"
    },
    "papermill": {
     "duration": 39.504918,
     "end_time": "2025-06-02T18:09:45.397471",
     "exception": false,
     "start_time": "2025-06-02T18:09:05.892553",
     "status": "completed"
    },
    "tags": []
   },
   "outputs": [
    {
     "data": {
      "image/png": "[encoded data removed]",
      "text/plain": [
       "<Figure size 1200x600 with 1 Axes>"
      ]
     },
     "metadata": {},
     "output_type": "display_data"
    }
   ],
   "source": [
    "import seaborn as sns\n",
    "import matplotlib.pyplot as plt\n",
    "\n",
    "plt.figure(figsize=(12,6))\n",
    "sns.countplot(data=df, x='hour', hue='event_type', order=range(24))\n",
    "plt.title(\"Event Types by Hour of Day\")\n",
    "plt.ylabel(\"Count\")\n",
    "plt.xlabel(\"Hour\")\n",
    "plt.legend(title=\"Event Type\")\n",
    "plt.show()\n"
   ]
  },
  {
   "cell_type": "markdown",
   "id": "00219257",
   "metadata": {
    "papermill": {
     "duration": 0.005998,
     "end_time": "2025-06-02T18:09:45.407649",
     "exception": false,
     "start_time": "2025-06-02T18:09:45.401651",
     "status": "completed"
    },
    "tags": []
   },
   "source": [
    "# Step 5: Session Funnel Breakdown\n",
    "\n",
    "We’ll group by session to analyze which combinations of actions occur within sessions.\n"
   ]
  },
  {
   "cell_type": "code",
   "execution_count": 5,
   "id": "2c06603e",
   "metadata": {
    "execution": {
     "iopub.execute_input": "2025-06-02T18:09:45.417532Z",
     "iopub.status.busy": "2025-06-02T18:09:45.416968Z",
     "iopub.status.idle": "2025-06-02T18:16:28.552010Z",
     "shell.execute_reply": "2025-06-02T18:16:28.551052Z"
    },
    "papermill": {
     "duration": 403.146008,
     "end_time": "2025-06-02T18:16:28.557755",
     "exception": false,
     "start_time": "2025-06-02T18:09:45.411747",
     "status": "completed"
    },
    "tags": []
   },
   "outputs": [
    {
     "data": {
      "text/plain": [
       "event_type\n",
       "{view}                    11907857\n",
       "{cart, view}               1091544\n",
       "{cart, purchase, view}      645840\n",
       "{purchase, view}            121527\n",
       "{cart}                        3435\n",
       "{purchase}                    3324\n",
       "{cart, purchase}              2523\n",
       "Name: count, dtype: int64"
      ]
     },
     "execution_count": 5,
     "metadata": {},
     "output_type": "execute_result"
    }
   ],
   "source": [
    "# Set of event types per session\n",
    "session_funnels = df.groupby('user_session')['event_type'].apply(set)\n",
    "session_funnels = session_funnels.value_counts().head(10)\n",
    "session_funnels\n"
   ]
  },
  {
   "cell_type": "markdown",
   "id": "46f74ba7",
   "metadata": {
    "papermill": {
     "duration": 0.003823,
     "end_time": "2025-06-02T18:16:28.565703",
     "exception": false,
     "start_time": "2025-06-02T18:16:28.561880",
     "status": "completed"
    },
    "tags": []
   },
   "source": [
    "## 🧠 Product Funnel Breakdown by Category\n",
    "\n",
    "We want to move beyond top-level funnel metrics and explore **which product categories** are converting well or poorly. This helps identify high-leverage areas for product or marketing teams to focus on.\n"
   ]
  },
  {
   "cell_type": "code",
   "execution_count": 6,
   "id": "c1ec9030",
   "metadata": {
    "execution": {
     "iopub.execute_input": "2025-06-02T18:16:28.575188Z",
     "iopub.status.busy": "2025-06-02T18:16:28.574859Z",
     "iopub.status.idle": "2025-06-02T18:16:59.222780Z",
     "shell.execute_reply": "2025-06-02T18:16:59.221540Z"
    },
    "papermill": {
     "duration": 30.659653,
     "end_time": "2025-06-02T18:16:59.229360",
     "exception": false,
     "start_time": "2025-06-02T18:16:28.569707",
     "status": "completed"
    },
    "tags": []
   },
   "outputs": [
    {
     "data": {
      "text/html": [
       "<div>\n",
       "<style scoped>\n",
       "    .dataframe tbody tr th:only-of-type {\n",
       "        vertical-align: middle;\n",
       "    }\n",
       "\n",
       "    .dataframe tbody tr th {\n",
       "        vertical-align: top;\n",
       "    }\n",
       "\n",
       "    .dataframe thead th {\n",
       "        text-align: right;\n",
       "    }\n",
       "</style>\n",
       "<table border=\"1\" class=\"dataframe\">\n",
       "  <thead>\n",
       "    <tr style=\"text-align: right;\">\n",
       "      <th>event_type</th>\n",
       "      <th>view</th>\n",
       "      <th>cart</th>\n",
       "      <th>purchase</th>\n",
       "      <th>view_to_cart</th>\n",
       "      <th>cart_to_purchase</th>\n",
       "      <th>view_to_purchase</th>\n",
       "    </tr>\n",
       "    <tr>\n",
       "      <th>category_code</th>\n",
       "      <th></th>\n",
       "      <th></th>\n",
       "      <th></th>\n",
       "      <th></th>\n",
       "      <th></th>\n",
       "      <th></th>\n",
       "    </tr>\n",
       "  </thead>\n",
       "  <tbody>\n",
       "    <tr>\n",
       "      <th>electronics.smartphone</th>\n",
       "      <td>1574985.0</td>\n",
       "      <td>353154.0</td>\n",
       "      <td>192425.0</td>\n",
       "      <td>0.224227</td>\n",
       "      <td>0.544876</td>\n",
       "      <td>0.122176</td>\n",
       "    </tr>\n",
       "    <tr>\n",
       "      <th>appliances.environment.air_heater</th>\n",
       "      <td>28962.0</td>\n",
       "      <td>5359.0</td>\n",
       "      <td>2758.0</td>\n",
       "      <td>0.185036</td>\n",
       "      <td>0.514648</td>\n",
       "      <td>0.095228</td>\n",
       "    </tr>\n",
       "    <tr>\n",
       "      <th>appliances.environment.water_heater</th>\n",
       "      <td>29882.0</td>\n",
       "      <td>5047.0</td>\n",
       "      <td>2685.0</td>\n",
       "      <td>0.168898</td>\n",
       "      <td>0.531999</td>\n",
       "      <td>0.089853</td>\n",
       "    </tr>\n",
       "    <tr>\n",
       "      <th>appliances.kitchen.washer</th>\n",
       "      <td>159992.0</td>\n",
       "      <td>26438.0</td>\n",
       "      <td>13565.0</td>\n",
       "      <td>0.165246</td>\n",
       "      <td>0.513087</td>\n",
       "      <td>0.084785</td>\n",
       "    </tr>\n",
       "    <tr>\n",
       "      <th>appliances.environment.vacuum</th>\n",
       "      <td>175190.0</td>\n",
       "      <td>28726.0</td>\n",
       "      <td>14490.0</td>\n",
       "      <td>0.163971</td>\n",
       "      <td>0.504421</td>\n",
       "      <td>0.082710</td>\n",
       "    </tr>\n",
       "    <tr>\n",
       "      <th>electronics.audio.headphone</th>\n",
       "      <td>316021.0</td>\n",
       "      <td>51419.0</td>\n",
       "      <td>25873.0</td>\n",
       "      <td>0.162708</td>\n",
       "      <td>0.503180</td>\n",
       "      <td>0.081871</td>\n",
       "    </tr>\n",
       "    <tr>\n",
       "      <th>appliances.iron</th>\n",
       "      <td>48577.0</td>\n",
       "      <td>7364.0</td>\n",
       "      <td>3906.0</td>\n",
       "      <td>0.151594</td>\n",
       "      <td>0.530418</td>\n",
       "      <td>0.080408</td>\n",
       "    </tr>\n",
       "    <tr>\n",
       "      <th>electronics.video.tv</th>\n",
       "      <td>260770.0</td>\n",
       "      <td>42801.0</td>\n",
       "      <td>20597.0</td>\n",
       "      <td>0.164133</td>\n",
       "      <td>0.481227</td>\n",
       "      <td>0.078985</td>\n",
       "    </tr>\n",
       "    <tr>\n",
       "      <th>appliances.kitchen.microwave</th>\n",
       "      <td>53807.0</td>\n",
       "      <td>7860.0</td>\n",
       "      <td>4203.0</td>\n",
       "      <td>0.146078</td>\n",
       "      <td>0.534733</td>\n",
       "      <td>0.078113</td>\n",
       "    </tr>\n",
       "    <tr>\n",
       "      <th>appliances.personal.scales</th>\n",
       "      <td>17934.0</td>\n",
       "      <td>2479.0</td>\n",
       "      <td>1292.0</td>\n",
       "      <td>0.138229</td>\n",
       "      <td>0.521178</td>\n",
       "      <td>0.072042</td>\n",
       "    </tr>\n",
       "  </tbody>\n",
       "</table>\n",
       "</div>"
      ],
      "text/plain": [
       "event_type                                view      cart  purchase  \\\n",
       "category_code                                                        \n",
       "electronics.smartphone               1574985.0  353154.0  192425.0   \n",
       "appliances.environment.air_heater      28962.0    5359.0    2758.0   \n",
       "appliances.environment.water_heater    29882.0    5047.0    2685.0   \n",
       "appliances.kitchen.washer             159992.0   26438.0   13565.0   \n",
       "appliances.environment.vacuum         175190.0   28726.0   14490.0   \n",
       "electronics.audio.headphone           316021.0   51419.0   25873.0   \n",
       "appliances.iron                        48577.0    7364.0    3906.0   \n",
       "electronics.video.tv                  260770.0   42801.0   20597.0   \n",
       "appliances.kitchen.microwave           53807.0    7860.0    4203.0   \n",
       "appliances.personal.scales             17934.0    2479.0    1292.0   \n",
       "\n",
       "event_type                           view_to_cart  cart_to_purchase  \\\n",
       "category_code                                                         \n",
       "electronics.smartphone                   0.224227          0.544876   \n",
       "appliances.environment.air_heater        0.185036          0.514648   \n",
       "appliances.environment.water_heater      0.168898          0.531999   \n",
       "appliances.kitchen.washer                0.165246          0.513087   \n",
       "appliances.environment.vacuum            0.163971          0.504421   \n",
       "electronics.audio.headphone              0.162708          0.503180   \n",
       "appliances.iron                          0.151594          0.530418   \n",
       "electronics.video.tv                     0.164133          0.481227   \n",
       "appliances.kitchen.microwave             0.146078          0.534733   \n",
       "appliances.personal.scales               0.138229          0.521178   \n",
       "\n",
       "event_type                           view_to_purchase  \n",
       "category_code                                          \n",
       "electronics.smartphone                       0.122176  \n",
       "appliances.environment.air_heater            0.095228  \n",
       "appliances.environment.water_heater          0.089853  \n",
       "appliances.kitchen.washer                    0.084785  \n",
       "appliances.environment.vacuum                0.082710  \n",
       "electronics.audio.headphone                  0.081871  \n",
       "appliances.iron                              0.080408  \n",
       "electronics.video.tv                         0.078985  \n",
       "appliances.kitchen.microwave                 0.078113  \n",
       "appliances.personal.scales                   0.072042  "
      ]
     },
     "execution_count": 6,
     "metadata": {},
     "output_type": "execute_result"
    }
   ],
   "source": [
    "# Category-level conversion analysis\n",
    "category_funnel = df.groupby(['category_code', 'event_type'])['user_id'].nunique().unstack().fillna(0)\n",
    "\n",
    "# Conversion rates\n",
    "category_funnel['view_to_cart'] = category_funnel['cart'] / category_funnel['view']\n",
    "category_funnel['cart_to_purchase'] = category_funnel['purchase'] / category_funnel['cart']\n",
    "category_funnel['view_to_purchase'] = category_funnel['purchase'] / category_funnel['view']\n",
    "\n",
    "# Clean and sort\n",
    "category_funnel = category_funnel.sort_values('view_to_purchase', ascending=False)\n",
    "category_funnel[['view', 'cart', 'purchase', 'view_to_cart', 'cart_to_purchase', 'view_to_purchase']].head(10)\n"
   ]
  },
  {
   "cell_type": "markdown",
   "id": "186d1873",
   "metadata": {
    "papermill": {
     "duration": 0.004356,
     "end_time": "2025-06-02T18:16:59.238330",
     "exception": false,
     "start_time": "2025-06-02T18:16:59.233974",
     "status": "completed"
    },
    "tags": []
   },
   "source": [
    "## 📊 Key Visualizations\n",
    "\n",
    "To help stakeholders interpret the analysis quickly, we’ll visualize:\n",
    "- Top product categories by conversion\n",
    "- Purchase activity by hour of day\n"
   ]
  },
  {
   "cell_type": "code",
   "execution_count": 7,
   "id": "8ffe8dee",
   "metadata": {
    "execution": {
     "iopub.execute_input": "2025-06-02T18:16:59.249293Z",
     "iopub.status.busy": "2025-06-02T18:16:59.248933Z",
     "iopub.status.idle": "2025-06-02T18:16:59.555238Z",
     "shell.execute_reply": "2025-06-02T18:16:59.554164Z"
    },
    "papermill": {
     "duration": 0.31511,
     "end_time": "2025-06-02T18:16:59.557854",
     "exception": false,
     "start_time": "2025-06-02T18:16:59.242744",
     "status": "completed"
    },
    "tags": []
   },
   "outputs": [
    {
     "data": {
      "image/png": "[encoded data removed]",
      "text/plain": [
       "<Figure size 1000x600 with 1 Axes>"
      ]
     },
     "metadata": {},
     "output_type": "display_data"
    }
   ],
   "source": [
    "top_cats = category_funnel.sort_values('view_to_purchase', ascending=False).head(10)\n",
    "\n",
    "plt.figure(figsize=(10,6))\n",
    "sns.barplot(x=top_cats.index, y=top_cats['view_to_purchase'])\n",
    "plt.xticks(rotation=45, ha='right')\n",
    "plt.title('Top 10 Categories by View → Purchase Conversion Rate')\n",
    "plt.ylabel('Conversion Rate')\n",
    "plt.xlabel('Category')\n",
    "plt.tight_layout()\n",
    "plt.show()\n"
   ]
  },
  {
   "cell_type": "code",
   "execution_count": 8,
   "id": "2866483f",
   "metadata": {
    "execution": {
     "iopub.execute_input": "2025-06-02T18:16:59.573632Z",
     "iopub.status.busy": "2025-06-02T18:16:59.573228Z",
     "iopub.status.idle": "2025-06-02T18:17:10.964832Z",
     "shell.execute_reply": "2025-06-02T18:17:10.963289Z"
    },
    "papermill": {
     "duration": 11.401747,
     "end_time": "2025-06-02T18:17:10.966723",
     "exception": false,
     "start_time": "2025-06-02T18:16:59.564976",
     "status": "completed"
    },
    "tags": []
   },
   "outputs": [
    {
     "data": {
      "image/png": "[encoded data removed]",
      "text/plain": [
       "<Figure size 640x480 with 1 Axes>"
      ]
     },
     "metadata": {},
     "output_type": "display_data"
    }
   ],
   "source": [
    "df['event_time'] = pd.to_datetime(df['event_time'])\n",
    "df['hour'] = df['event_time'].dt.hour\n",
    "purchase_df = df[df['event_type'] == 'purchase']\n",
    "\n",
    "sns.countplot(x='hour', data=purchase_df)\n",
    "plt.title('Purchases by Hour')\n",
    "plt.xlabel('Hour of Day')\n",
    "plt.ylabel('Number of Purchases')\n",
    "plt.show()\n"
   ]
  },
  {
   "cell_type": "markdown",
   "id": "495453a5",
   "metadata": {
    "papermill": {
     "duration": 0.007469,
     "end_time": "2025-06-02T18:17:10.981959",
     "exception": false,
     "start_time": "2025-06-02T18:17:10.974490",
     "status": "completed"
    },
    "tags": []
   },
   "source": [
    "## ✅ Summary of Insights\n",
    "\n",
    "- **Biggest drop-off** is from `view → cart`, suggesting the need for better product presentation, CTAs, or urgency indicators.\n",
    "- **Purchases peak in the evening** (7–9 PM). Consider aligning promotions or retargeting campaigns to this window.\n",
    "- **Smartphones and accessories convert best**. These categories may deserve priority placement on the homepage or ad campaigns.\n",
    "- **Many users don’t complete the funnel in one session**. Retargeting or reminder flows could drive follow-through.\n",
    "\n",
    "This analysis provides a baseline product analytics report that can support product managers and growth teams in identifying areas of friction and opportunity.\n"
   ]
  }
 ],
 "metadata": {
  "kaggle": {
   "accelerator": "none",
   "dataSources": [
    {
     "datasetId": 411512,
     "sourceId": 835452,
     "sourceType": "datasetVersion"
    }
   ],
   "dockerImageVersionId": 31040,
   "isGpuEnabled": false,
   "isInternetEnabled": true,
   "language": "python",
   "sourceType": "notebook"
  },
  "kernelspec": {
   "display_name": "Python 3",
   "language": "python",
   "name": "python3"
  },
  "language_info": {
   "codemirror_mode": {
    "name": "ipython",
    "version": 3
   },
   "file_extension": ".py",
   "mimetype": "text/x-python",
   "name": "python",
   "nbconvert_exporter": "python",
   "pygments_lexer": "ipython3",
   "version": "3.11.11"
  },
  "papermill": {
   "default_parameters": {},
   "duration": 818.158012,
   "end_time": "2025-06-02T18:17:14.215543",
   "environment_variables": {},
   "exception": null,
   "input_path": "__notebook__.ipynb",
   "output_path": "__notebook__.ipynb",
   "parameters": {},
   "start_time": "2025-06-02T18:03:36.057531",
   "version": "2.6.0"
  }
 },
 "nbformat": 4,
 "nbformat_minor": 5
}
